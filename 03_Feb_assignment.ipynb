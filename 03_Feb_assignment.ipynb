{
 "cells": [
  {
   "cell_type": "code",
   "execution_count": 1,
   "id": "fcd7d982-8fca-4b8c-9ce6-e4f6ad5b9a10",
   "metadata": {},
   "outputs": [
    {
     "name": "stdout",
     "output_type": "stream",
     "text": [
      "[1, 3, 5, 7, 9, 11, 13, 15, 17, 19, 21, 23]\n"
     ]
    }
   ],
   "source": [
    "# Q1. Which keyword is used to create a function? Create a function to return a list of odd numbers in the range of 1 to 25.\n",
    "\n",
    "# Ans: def keyword is used to create a function\n",
    "\n",
    "def func():\n",
    "    li = []\n",
    "    for i in range(1, 25):\n",
    "        if (i&1):\n",
    "            li.append(i)\n",
    "    return li\n",
    "\n",
    "print(func())"
   ]
  },
  {
   "cell_type": "code",
   "execution_count": 3,
   "id": "b2f41623-a608-47bf-ae90-4ffc192abf19",
   "metadata": {},
   "outputs": [
    {
     "name": "stdout",
     "output_type": "stream",
     "text": [
      "(1, 2, 3, 4)\n",
      "{'a': 1, 'b': 25, 'c': 'hello'}\n"
     ]
    }
   ],
   "source": [
    "''' Q2. Why *args and **kwargs is used in some functions? Create a function each for *args and **kwarg to demonstrate their use.\n",
    "\n",
    "Ans: *args is used to take n number of variable arguments for the function. It will take the whole input as tuple\n",
    "     **kwargs is used to a variable sized key value pair as input or a whole dictionary can be taken as an argument for the function '''\n",
    "\n",
    "def func1 (*args):\n",
    "    print(args)\n",
    "\n",
    "def func2 (**kwargs):\n",
    "    print(kwargs)\n",
    "    \n",
    "func1(1,2,3,4)\n",
    "func2(a = 1, b = 25, c = 'hello')"
   ]
  },
  {
   "cell_type": "code",
   "execution_count": 5,
   "id": "c0acf49c-a83c-44ee-b5d1-2ec63bd7b860",
   "metadata": {},
   "outputs": [
    {
     "name": "stdout",
     "output_type": "stream",
     "text": [
      "2\n",
      "4\n",
      "6\n",
      "8\n",
      "10\n"
     ]
    }
   ],
   "source": [
    "''' Q3. What is an iterator in python? Name the method used to initialise the iterator object and the method\n",
    "used for iteration. Use these methods to print the first five elements of the given list [2, 4, 6, 8, 10, 12, 14,\n",
    "16, 18, 20].\n",
    "\n",
    "Ans: In python, iterator is an object that allows to iterate over collections of data, such as lists, tuples, dictionaries and etc.\n",
    "     The method used to initialise the iterator object is iter() and method used for iteration is next() '''\n",
    "\n",
    "li = [2, 4, 6, 8, 10, 12, 14, 16, 18, 20]\n",
    "it = iter(li)\n",
    "for i in range(5):\n",
    "    print(next(it))"
   ]
  },
  {
   "cell_type": "code",
   "execution_count": 6,
   "id": "37436f61-6942-4ab9-ba8f-36792d46b7f3",
   "metadata": {},
   "outputs": [
    {
     "name": "stdout",
     "output_type": "stream",
     "text": [
      "1\n",
      "2\n",
      "3\n"
     ]
    }
   ],
   "source": [
    "''' Q4. What is a generator function in python? Why yield keyword is used? Give an example of a generator\n",
    "function.\n",
    "\n",
    "Ans: A generator function in Python is defined like a normal function, but whenever it needs to generate a value, it does so with the \n",
    "     yield keyword rather than return. If the body of a def contains yield, the function automatically becomes a Python generator function.\n",
    "     Yield keyword is used to create generator functions which are memory efficient '''\n",
    "\n",
    "def genfunc():\n",
    "    yield 1\n",
    "    yield 2\n",
    "    yield 3\n",
    "\n",
    "for i in genfunc():\n",
    "    print(i)"
   ]
  },
  {
   "cell_type": "code",
   "execution_count": 9,
   "id": "44360af0-db8e-4b86-97e1-dc8c2f1bb042",
   "metadata": {},
   "outputs": [
    {
     "name": "stdout",
     "output_type": "stream",
     "text": [
      "2\n",
      "3\n",
      "5\n",
      "7\n",
      "11\n",
      "13\n",
      "17\n",
      "19\n",
      "23\n",
      "29\n",
      "31\n",
      "37\n",
      "41\n",
      "43\n",
      "47\n",
      "53\n",
      "59\n",
      "61\n",
      "67\n",
      "71\n"
     ]
    }
   ],
   "source": [
    "''' Q5. Create a generator function for prime numbers less than 1000. Use the next() method to print the\n",
    "first 20 prime numbers. '''\n",
    "\n",
    "def genPrime():\n",
    "    n = 1000\n",
    "    for i in range(2, 1000):\n",
    "        prime = True\n",
    "        for j in range(2, i):\n",
    "            if (i % j == 0):\n",
    "                prime = False\n",
    "                break\n",
    "        if prime == True:\n",
    "            yield i\n",
    "\n",
    "generator = genPrime()\n",
    "for i in range(20):\n",
    "    print(next(generator))"
   ]
  },
  {
   "cell_type": "code",
   "execution_count": 14,
   "id": "1a58c9b7-8a9b-4bb6-99bc-2306b0d4ffb4",
   "metadata": {},
   "outputs": [
    {
     "name": "stdout",
     "output_type": "stream",
     "text": [
      "0 1 1 2 3 5 8 13 21 34 "
     ]
    }
   ],
   "source": [
    "''' Q6. Write a python program to print the first 10 Fibonacci numbers using a while loop.'''\n",
    "first = 0\n",
    "second = 1\n",
    "print(first, second, end = ' ')\n",
    "i = 3\n",
    "\n",
    "while i <= 10:\n",
    "    third = first + second\n",
    "    print(third, end=' ')\n",
    "    first = second\n",
    "    second = third\n",
    "    i += 1"
   ]
  },
  {
   "cell_type": "code",
   "execution_count": 15,
   "id": "e3458f15-d63e-4538-ac42-1b4681c908b9",
   "metadata": {},
   "outputs": [
    {
     "name": "stdout",
     "output_type": "stream",
     "text": [
      "['p', 'w', 's', 'k', 'i', 'l', 'l', 's']\n"
     ]
    }
   ],
   "source": [
    "''' Q7. Write a List Comprehension to iterate through the given string: ‘pwskills’.\n",
    "Expected output: ['p', 'w', 's', 'k', 'i', 'l', 'l', 's'] '''\n",
    "\n",
    "result = [i for i in 'pwskills']\n",
    "print(result)"
   ]
  },
  {
   "cell_type": "code",
   "execution_count": 23,
   "id": "c0387489-722d-45d0-bfd0-363e42798241",
   "metadata": {},
   "outputs": [
    {
     "name": "stdin",
     "output_type": "stream",
     "text": [
      " 141\n"
     ]
    },
    {
     "name": "stdout",
     "output_type": "stream",
     "text": [
      "Yes palindrome\n"
     ]
    },
    {
     "name": "stdin",
     "output_type": "stream",
     "text": [
      " 156\n"
     ]
    },
    {
     "name": "stdout",
     "output_type": "stream",
     "text": [
      "Not palindrome\n"
     ]
    }
   ],
   "source": [
    "''' Q8. Write a python program to check whether a given number is Palindrome or not using a while loop. '''\n",
    "\n",
    "def palindrome():\n",
    "    n = int(input())\n",
    "    org = n\n",
    "    rev = 0\n",
    "\n",
    "    while (n != 0):\n",
    "        digit = n%10\n",
    "        rev = rev*10 + digit\n",
    "        n = int(n/10)\n",
    "\n",
    "    if (rev == org):\n",
    "        print('Yes palindrome')\n",
    "    else:\n",
    "        print('Not palindrome')\n",
    "\n",
    "palindrome()\n",
    "palindrome()"
   ]
  },
  {
   "cell_type": "code",
   "execution_count": 25,
   "id": "491aa9cb-c30c-4e17-9f5a-a29e2eb7d55d",
   "metadata": {},
   "outputs": [
    {
     "name": "stdout",
     "output_type": "stream",
     "text": [
      "1 3 5 7 9 11 13 15 17 19 21 23 25 27 29 31 33 35 37 39 41 43 45 47 49 51 53 55 57 59 61 63 65 67 69 71 73 75 77 79 81 83 85 87 89 91 93 95 97 99\n"
     ]
    }
   ],
   "source": [
    "''' Q9. Write a code to print odd numbers from 1 to 100 using list comprehension. '''\n",
    "result = [i for i in range(100) if i & 1]\n",
    "print(*result)"
   ]
  },
  {
   "cell_type": "code",
   "execution_count": null,
   "id": "429cbe6c-28ce-46ac-ac60-984cb22dc40d",
   "metadata": {},
   "outputs": [],
   "source": []
  }
 ],
 "metadata": {
  "kernelspec": {
   "display_name": "Python 3 (ipykernel)",
   "language": "python",
   "name": "python3"
  },
  "language_info": {
   "codemirror_mode": {
    "name": "ipython",
    "version": 3
   },
   "file_extension": ".py",
   "mimetype": "text/x-python",
   "name": "python",
   "nbconvert_exporter": "python",
   "pygments_lexer": "ipython3",
   "version": "3.11.0"
  }
 },
 "nbformat": 4,
 "nbformat_minor": 5
}
