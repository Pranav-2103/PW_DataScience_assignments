{
 "cells": [
  {
   "cell_type": "markdown",
   "id": "2f15d34d-3b3c-42c2-8ff4-3a435861716c",
   "metadata": {},
   "source": [
    "Q1. What is Abstraction in OOps? Explain with an example."
   ]
  },
  {
   "cell_type": "markdown",
   "id": "1bc83651-4d2c-401b-a82e-ff944fba0197",
   "metadata": {},
   "source": [
    "Ans: In oops abstraction refers to hiding the implementation part of the program and showing only the necessary featrues of it which are enough for the user to know. For eg. the driver only knows that by pressing accelerator the car will move forward and by pressing brake the car will stop. He doesn't know how the car speed up or down by pressing accelerator or brake. Hence this information/mechanism is hidden from the driver."
   ]
  },
  {
   "cell_type": "markdown",
   "id": "f4b99294-95a7-4de2-8c3e-fcd072d9632a",
   "metadata": {},
   "source": [
    "Q2. Differentiate between Abstraction and Encapsulation. Explain with an example."
   ]
  },
  {
   "cell_type": "markdown",
   "id": "2985000c-5125-4964-b204-563619ff1ee5",
   "metadata": {},
   "source": [
    "Abstraction: is defined as a process of hiding the implementation details of a system from the user. It helps hiding the unwanted details/information. It can be implemented using abstract classes and interfaces.\n",
    "\n",
    "Encapsulation: It is a method that wrap up data into a single module. It helps hide data using a single entity, or using a unit with the help of method that helps protect the information. It can be implemented using access modeifiers like public, private and protected."
   ]
  },
  {
   "cell_type": "markdown",
   "id": "b921f248-6628-4ae1-9b19-9351570d9c5e",
   "metadata": {},
   "source": [
    "Q3. What is abc module in python? Why is it used?"
   ]
  },
  {
   "cell_type": "markdown",
   "id": "757e28a8-8c36-4047-8746-9155fdbbb019",
   "metadata": {},
   "source": [
    "abc is a module in python with stands for Abstract Base Classes which is a framework used for defining abstract base classes. An abstract base class is a class that cannot be instantiated directly and is designed to be subclassed.\n",
    "\n",
    "We can define abstract methods within a class using the @abstractmethod decorator.These abstract methods must be implemented by subclasses, enforcing a certain interface or behavior across multiple classes. \n",
    "Abstract base classes facilitate polymorphism.\n",
    "Using abstract base classes makes code more readable and self-documenting."
   ]
  },
  {
   "cell_type": "markdown",
   "id": "6fa6ffa3-337c-4e07-bce0-599df72af9db",
   "metadata": {},
   "source": [
    "Q4. How can we achieve data abstraction?"
   ]
  },
  {
   "cell_type": "markdown",
   "id": "f2dbcabd-9fd7-46ed-bbae-01b2a0252238",
   "metadata": {},
   "source": [
    "Ans: In python we can achieve data abstraction by using classes and object, or by using abstract base classes with abstract methods"
   ]
  },
  {
   "cell_type": "markdown",
   "id": "1fa26222-32a1-40c1-b510-f2e539d41be1",
   "metadata": {},
   "source": [
    "Q5. Can we create an instance of an abstract class? Explain your answer."
   ]
  },
  {
   "cell_type": "markdown",
   "id": "c028893f-e622-4236-8806-a23b582c9861",
   "metadata": {},
   "source": [
    "Ans: No, we cannot create an instance of an abstract class directly in Python.\r\n",
    "\r\n",
    "An abstract class is a class that contains one or more abstract methods, which are methods declared but not implemented in the abstract class itself. The purpose of an abstract class is to serve as a blueprint or template for other classes to inherit from and implement its abstract methods.\r\n",
    "\r\n",
    "Attempting to create an instance of an abstract class will result in a TypeError because Python prevents the instantiation of abstract classes. This is because abstract classes are incomplete by design; they are meant to be subclassed and extended by concrete classes that provide implementations for the abstract methods."
   ]
  }
 ],
 "metadata": {
  "kernelspec": {
   "display_name": "Python 3 (ipykernel)",
   "language": "python",
   "name": "python3"
  },
  "language_info": {
   "codemirror_mode": {
    "name": "ipython",
    "version": 3
   },
   "file_extension": ".py",
   "mimetype": "text/x-python",
   "name": "python",
   "nbconvert_exporter": "python",
   "pygments_lexer": "ipython3",
   "version": "3.11.0"
  }
 },
 "nbformat": 4,
 "nbformat_minor": 5
}
