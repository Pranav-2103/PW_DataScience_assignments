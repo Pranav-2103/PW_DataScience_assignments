{
 "cells": [
  {
   "cell_type": "markdown",
   "id": "402246ad-e77b-4bb6-9e56-ead0d502f987",
   "metadata": {},
   "source": [
    "Ans1: Guido van Rossum"
   ]
  },
  {
   "cell_type": "markdown",
   "id": "c92bd8ec-1ba9-4423-a8e8-321fddb1c3ba",
   "metadata": {},
   "source": [
    "Ans2: object-oriented, structured, and functional programming."
   ]
  },
  {
   "cell_type": "markdown",
   "id": "4c134309-1e3e-44e3-84d1-8da7177435f6",
   "metadata": {},
   "source": [
    "Ans3: Yes python is case-sensitive when dealing with identifiers"
   ]
  },
  {
   "cell_type": "markdown",
   "id": "349c37f7-c59c-4bee-90ad-1d6e27eb9922",
   "metadata": {},
   "source": [
    "Ans4: .py"
   ]
  },
  {
   "cell_type": "markdown",
   "id": "3dbcec58-275e-4c2e-aff1-982a1ccbccdb",
   "metadata": {},
   "source": [
    "Ans5: Interpreted"
   ]
  },
  {
   "cell_type": "markdown",
   "id": "b00aabb0-19d8-446d-b7bb-47d98b2bc233",
   "metadata": {},
   "source": [
    "Ans6: a module, a function body, and a class definition."
   ]
  },
  {
   "cell_type": "markdown",
   "id": "f41436cc-8471-48c5-83b1-7971bad77fbe",
   "metadata": {},
   "source": [
    "Ans7: hashtag represented as '#'"
   ]
  },
  {
   "cell_type": "markdown",
   "id": "dbd9840e-0fac-4ab0-8cbe-3fc21396897c",
   "metadata": {},
   "source": [
    "Ans8: sys.version present in the sys(system) module"
   ]
  },
  {
   "cell_type": "markdown",
   "id": "53bf5a68-0aa0-494b-a255-6d47b1c4d759",
   "metadata": {},
   "source": [
    "Ans9: Lambda"
   ]
  },
  {
   "cell_type": "markdown",
   "id": "5f3e3ca4-d750-41bb-b834-9f999b9d55f2",
   "metadata": {},
   "source": [
    "Ans10: Preferred Installer Program"
   ]
  },
  {
   "cell_type": "markdown",
   "id": "26612959-db95-4809-b568-7a3e331d27f8",
   "metadata": {},
   "source": [
    "Ans11: len(), str(), max(), min(), sum(), range()"
   ]
  },
  {
   "cell_type": "markdown",
   "id": "1a7df596-6d48-4540-a8a6-aef132b64e30",
   "metadata": {},
   "source": [
    "Ans12: 79 characters"
   ]
  },
  {
   "cell_type": "markdown",
   "id": "2df38540-ad2c-4a15-adbf-966c1f104200",
   "metadata": {},
   "source": [
    "Ans13: Easy to read and learn, large community, beginner friendly, large number of libraries."
   ]
  },
  {
   "cell_type": "markdown",
   "id": "e5ec28ec-1512-4d72-9e4e-d869d251e6d4",
   "metadata": {},
   "source": [
    "Ans14: Memory management in python can be done in two ways : Dynamic memory allocation or static memory allocation"
   ]
  },
  {
   "cell_type": "markdown",
   "id": "f39d15fc-aa56-4deb-9f35-0b264bb9f1ec",
   "metadata": {},
   "source": [
    "Ans15: Go to python official website and download python. Then locate the python directory where you will find the bin folder copy it's path. Go the enviornment variables click on path, click on add new and then past the copied path there press enter and then ok. "
   ]
  },
  {
   "cell_type": "markdown",
   "id": "9daa35c2-75fe-40e9-9837-f9b0f8b443dd",
   "metadata": {},
   "source": [
    "Ans16: Yes indentation is required in python"
   ]
  }
 ],
 "metadata": {
  "kernelspec": {
   "display_name": "Python 3 (ipykernel)",
   "language": "python",
   "name": "python3"
  },
  "language_info": {
   "codemirror_mode": {
    "name": "ipython",
    "version": 3
   },
   "file_extension": ".py",
   "mimetype": "text/x-python",
   "name": "python",
   "nbconvert_exporter": "python",
   "pygments_lexer": "ipython3",
   "version": "3.11.0"
  }
 },
 "nbformat": 4,
 "nbformat_minor": 5
}
