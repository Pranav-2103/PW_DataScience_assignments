{
 "cells": [
  {
   "cell_type": "markdown",
   "id": "5a91dc27-ef23-4c66-9584-6c3d96f4b6eb",
   "metadata": {},
   "source": [
    "Q1. Create a python program to sort the given list of tuples based on integer value using a\r\n",
    "lambda function\n",
    "[('Sachin Tendulkar', 34357), ('Ricky Ponting', 27483), ('Jack Kallis', 25534), ('Virat Kohli', 24936)]."
   ]
  },
  {
   "cell_type": "code",
   "execution_count": 1,
   "id": "f632336d-1aad-455b-863e-80f50cdae321",
   "metadata": {},
   "outputs": [],
   "source": [
    "l = [('Sachin Tendulkar', 34357), ('Ricky Ponting', 27483), ('Jack Kallis', 25534), ('Virat Kohli', 24936)]"
   ]
  },
  {
   "cell_type": "code",
   "execution_count": 6,
   "id": "124c19b2-1f69-416c-9503-0615156bc86a",
   "metadata": {},
   "outputs": [
    {
     "data": {
      "text/plain": [
       "[('Virat Kohli', 24936),\n",
       " ('Jack Kallis', 25534),\n",
       " ('Ricky Ponting', 27483),\n",
       " ('Sachin Tendulkar', 34357)]"
      ]
     },
     "execution_count": 6,
     "metadata": {},
     "output_type": "execute_result"
    }
   ],
   "source": [
    "sorted(l, key=lambda x:x[1])"
   ]
  },
  {
   "cell_type": "markdown",
   "id": "7908da7f-a1c4-4e2c-acd5-17032aa45aa3",
   "metadata": {},
   "source": [
    "Q2. Write a Python Program to find the squares of all the numbers in the given list of integers using\r\n",
    "lambda and map functions.\r\n",
    "[1, 2, 3, 4, 5, 6, 7, 8, 9, 10]"
   ]
  },
  {
   "cell_type": "code",
   "execution_count": 7,
   "id": "22532632-a9ee-4405-917c-a968d847f25c",
   "metadata": {},
   "outputs": [
    {
     "name": "stdout",
     "output_type": "stream",
     "text": [
      "[1, 4, 9, 16, 25, 36, 49, 64, 81, 100]\n"
     ]
    }
   ],
   "source": [
    "b = [1,2,3,4,5,6,7,8,9,10]\n",
    "print(list(map(lambda x: x**2, b)))"
   ]
  },
  {
   "cell_type": "markdown",
   "id": "1fd2e343-66c4-4144-93c0-ffb8fb492553",
   "metadata": {},
   "source": [
    "Q3. Write a python program to convert the given list of integers into a tuple of strings. Use map and\r\n",
    "lambda functions\r\n",
    "Given String: [1, 2, 3, 4, 5, 6, 7, 8, 9, 10]\r\n",
    "Expected output: ('1', '2', '3', '4', '5', '6', '7', '8', '9', '10')"
   ]
  },
  {
   "cell_type": "code",
   "execution_count": 8,
   "id": "2b32275c-082a-4418-9d8f-9cfca7f46fae",
   "metadata": {},
   "outputs": [
    {
     "data": {
      "text/plain": [
       "('1', '2', '3', '4', '5', '6', '7', '8', '9', '10')"
      ]
     },
     "execution_count": 8,
     "metadata": {},
     "output_type": "execute_result"
    }
   ],
   "source": [
    "c = [1,2,3,4,5,6,7,8,9,10]\n",
    "tuple(map(lambda x: str(x), c))"
   ]
  },
  {
   "cell_type": "markdown",
   "id": "02fe74b6-506c-483d-9a21-685d5399a0c1",
   "metadata": {},
   "source": [
    "Q4. Write a python program using reduce function to compute the product of a list containing numbers\r\n",
    "from 1 to 25."
   ]
  },
  {
   "cell_type": "code",
   "execution_count": 9,
   "id": "cc93793f-7dff-4ecd-9b42-f63748cbd3e4",
   "metadata": {},
   "outputs": [],
   "source": [
    "d = list(range(1,26))"
   ]
  },
  {
   "cell_type": "code",
   "execution_count": 12,
   "id": "4f6f065a-c133-43f1-8eae-724e12862f2a",
   "metadata": {},
   "outputs": [
    {
     "data": {
      "text/plain": [
       "15511210043330985984000000"
      ]
     },
     "execution_count": 12,
     "metadata": {},
     "output_type": "execute_result"
    }
   ],
   "source": [
    "from functools import reduce\n",
    "reduce(lambda x,y : x*y, d)"
   ]
  },
  {
   "cell_type": "markdown",
   "id": "8351f9bb-3e96-4165-9634-185ad51bec75",
   "metadata": {},
   "source": [
    "Q5. Write a python program to filter the numbers in a given list that are divisible by 2 and 3 using the\r\n",
    "filter function.\r\n",
    "[2, 3, 6, 9, 27, 60, 90, 120, 55, 46]"
   ]
  },
  {
   "cell_type": "code",
   "execution_count": 14,
   "id": "f2fbed5e-1946-40f9-8118-21375990d2d2",
   "metadata": {},
   "outputs": [
    {
     "data": {
      "text/plain": [
       "[6, 60, 90, 120]"
      ]
     },
     "execution_count": 14,
     "metadata": {},
     "output_type": "execute_result"
    }
   ],
   "source": [
    "e = [2, 3, 6, 9, 27, 60, 90, 120, 55, 46]\n",
    "#numbers which are divisible by 2 and 3 are the numbers divisible by 6\n",
    "list(filter(lambda x: x%6 == 0, e))"
   ]
  },
  {
   "cell_type": "code",
   "execution_count": 16,
   "id": "7aac4de1-3378-4cee-b713-a7cd2774e382",
   "metadata": {},
   "outputs": [
    {
     "data": {
      "text/plain": [
       "[6, 60, 90, 120]"
      ]
     },
     "execution_count": 16,
     "metadata": {},
     "output_type": "execute_result"
    }
   ],
   "source": [
    "#alternate solution\n",
    "list(filter(lambda x: x%2 == 0 and x%6 == 0, e))"
   ]
  },
  {
   "cell_type": "markdown",
   "id": "a7399442-0e38-44ab-a247-5187cb4ac582",
   "metadata": {},
   "source": [
    "Q6. Write a python program to find palindromes in the given list of strings using lambda and filter\r\n",
    "function.\r\n",
    "['python', 'php', 'aba', 'radar', 'level']"
   ]
  },
  {
   "cell_type": "code",
   "execution_count": 22,
   "id": "61a6d72f-2bd9-4410-9a83-4e8639e8e3b9",
   "metadata": {},
   "outputs": [
    {
     "data": {
      "text/plain": [
       "['php', 'aba', 'radar', 'level']"
      ]
     },
     "execution_count": 22,
     "metadata": {},
     "output_type": "execute_result"
    }
   ],
   "source": [
    "f = ['python', 'php', 'aba', 'radar', 'level']\n",
    "list(filter(lambda x: x == x[::-1], f))"
   ]
  },
  {
   "cell_type": "code",
   "execution_count": null,
   "id": "3afed624-a2bc-4d63-8f91-c1c9209e400b",
   "metadata": {},
   "outputs": [],
   "source": []
  }
 ],
 "metadata": {
  "kernelspec": {
   "display_name": "Python 3 (ipykernel)",
   "language": "python",
   "name": "python3"
  },
  "language_info": {
   "codemirror_mode": {
    "name": "ipython",
    "version": 3
   },
   "file_extension": ".py",
   "mimetype": "text/x-python",
   "name": "python",
   "nbconvert_exporter": "python",
   "pygments_lexer": "ipython3",
   "version": "3.11.0"
  }
 },
 "nbformat": 4,
 "nbformat_minor": 5
}
