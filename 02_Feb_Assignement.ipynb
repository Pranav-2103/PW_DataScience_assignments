{
 "cells": [
  {
   "cell_type": "markdown",
   "id": "6a0e187f-21ba-4549-a377-d6d3c7a5818f",
   "metadata": {},
   "source": [
    "02 FEB ASSIGNMENT"
   ]
  },
  {
   "cell_type": "markdown",
   "id": "3ac38095-0d64-4926-b3b4-6deb81abb629",
   "metadata": {},
   "source": [
    "Q1. Explain with an example each when to use a for loop and a while loop.\n",
    "\n",
    "Ans. While loop is used when we don't know the number of iteration that we require whereas for loop is used when we know how many number of iterations are there.\n",
    "eg: for i in range(0,100):\n",
    "        print(i)\n",
    "    here we know that i needs to be iterated 100 times i.e., from 0 to 99. here we know for how much time we need to run the loop hence for loop is used.\n",
    "\n",
    "but let's assume this piece of code.\n",
    "    f\n",
    "    while (i < 100):\n",
    "        #do something\n",
    "    \n",
    "here we don't know how many times i will run, we only know that we should process something till i is less than 100 hence in this scenerio use of while loop is much easier than for loop."
   ]
  },
  {
   "cell_type": "code",
   "execution_count": 7,
   "id": "59ca43a9-881e-4a3c-8afa-2e77d151156c",
   "metadata": {},
   "outputs": [
    {
     "name": "stdout",
     "output_type": "stream",
     "text": [
      "The sum of first 10 natural numbers is:  55\n",
      "The product of first 10 natural numbers is:  3628800\n",
      "The sum of first 10 natural numbers is:  55\n",
      "The product of first 10 natural numbers is:  3628800\n"
     ]
    }
   ],
   "source": [
    "# Q.2Write a python program to print the sum and product of the first 10 natural numbers using for\n",
    "# and while loop.\n",
    "\n",
    "_sum = 0;\n",
    "product = 1;\n",
    "for i in range(1,11):\n",
    "    _sum = _sum + i\n",
    "    product = product*i\n",
    "    \n",
    "print(\"The sum of first 10 natural numbers is: \", _sum)\n",
    "print(\"The product of first 10 natural numbers is: \", product)\n",
    "\n",
    "num = 1\n",
    "_sum = 0;\n",
    "product = 1;\n",
    "while (num <= 10):\n",
    "    _sum = _sum + num\n",
    "    product = product*num\n",
    "    num = num+1\n",
    "    \n",
    "print(\"The sum of first 10 natural numbers is: \", _sum)\n",
    "print(\"The product of first 10 natural numbers is: \", product)"
   ]
  },
  {
   "cell_type": "code",
   "execution_count": 4,
   "id": "dca2c035-c3e6-41bf-a01e-2fdb73b09f46",
   "metadata": {},
   "outputs": [
    {
     "name": "stdin",
     "output_type": "stream",
     "text": [
      "Enter total of units consumed:  310\n"
     ]
    },
    {
     "name": "stdout",
     "output_type": "stream",
     "text": [
      "2250.0\n"
     ]
    }
   ],
   "source": [
    "# Q.3 Electricity bill\n",
    "total_units = int(input(\"Enter total of units consumed: \"))\n",
    "cost = 0;\n",
    "if (total_units < 100):\n",
    "    cost = (total_units) * 4.5\n",
    "elif (total_units < 200):\n",
    "    cost = 100 * 4.5 + (total_units - 100)*6\n",
    "elif (total_units < 300):\n",
    "    cost = 100*4.5 + 100*6 + (total_units - 200) * 10\n",
    "else:\n",
    "    cost = 100 * 4.5 + 100 * 6 + 100 * 10 + (total_units-300) * 20\n",
    "    \n",
    "print (cost)"
   ]
  },
  {
   "cell_type": "code",
   "execution_count": 11,
   "id": "39ff556c-2e03-4e99-8837-956e29957893",
   "metadata": {},
   "outputs": [
    {
     "name": "stdout",
     "output_type": "stream",
     "text": [
      "[2, 4, 5, 6, 8, 10, 12, 14, 15, 16, 18, 20, 22, 24, 25, 26, 28, 30, 32, 34, 35, 36, 38, 40, 42, 44, 45, 46, 48, 50, 52, 54, 55, 56, 58, 60, 62, 64, 65, 66, 68, 70, 72, 74, 75, 76, 78, 80, 82, 84, 85, 86, 88, 90, 92, 94, 95, 96, 98, 100]\n",
      "[2, 4, 5, 6, 8, 10, 12, 14, 15, 16, 18, 20, 22, 24, 25, 26, 28, 30, 32, 34, 35, 36, 38, 40, 42, 44, 45, 46, 48, 50, 52, 54, 55, 56, 58, 60, 62, 64, 65, 66, 68, 70, 72, 74, 75, 76, 78, 80, 82, 84, 85, 86, 88, 90, 92, 94, 95, 96, 98, 100]\n"
     ]
    }
   ],
   "source": [
    "# Q.4\n",
    "l1 = list(range(1,101))\n",
    "result = []\n",
    "for i in l1:\n",
    "    cube = i*i*i\n",
    "    if (cube%4 == 0 or cube%5 == 0):\n",
    "        result.append(i)\n",
    "        \n",
    "print(result)\n",
    "\n",
    "result2 = []\n",
    "ind = 0\n",
    "while (ind < len(l1)):\n",
    "    num = l1[ind]\n",
    "    cube = num*num*num\n",
    "    if (cube%4 == 0 or cube%5 == 0):\n",
    "        result2.append(num)\n",
    "    ind = ind+1\n",
    "    \n",
    "print(result2)"
   ]
  },
  {
   "cell_type": "code",
   "execution_count": null,
   "id": "bad4e604-03dc-4881-991a-86150841816e",
   "metadata": {},
   "outputs": [],
   "source": [
    "# Q5. Write a program to filter count vowels in the below-given string.\n",
    "string = \"I want to become a data scientist\"\n",
    "for i in string:\n",
    "    if (i == 'a' or i == 'e' i == 'i' or i == 'o' or i == 'u'"
   ]
  }
 ],
 "metadata": {
  "kernelspec": {
   "display_name": "Python 3 (ipykernel)",
   "language": "python",
   "name": "python3"
  },
  "language_info": {
   "codemirror_mode": {
    "name": "ipython",
    "version": 3
   },
   "file_extension": ".py",
   "mimetype": "text/x-python",
   "name": "python",
   "nbconvert_exporter": "python",
   "pygments_lexer": "ipython3",
   "version": "3.10.8"
  }
 },
 "nbformat": 4,
 "nbformat_minor": 5
}
