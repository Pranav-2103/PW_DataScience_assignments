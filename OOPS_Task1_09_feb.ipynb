{
 "cells": [
  {
   "cell_type": "markdown",
   "id": "fed17979-b077-4584-b51b-fb50545053f6",
   "metadata": {},
   "source": [
    "Question1: Create a vehicle class with an init method having instance variables as name_of_vehicle, max_speed\n",
    "and average_of_vehicle."
   ]
  },
  {
   "cell_type": "code",
   "execution_count": 15,
   "id": "3c475454-263d-4a2a-9d1d-588fab6f126b",
   "metadata": {},
   "outputs": [],
   "source": [
    "class vehicle:\n",
    "    def __init__(self, name, maxSpeed, average):\n",
    "        self.name_of_vehicle = name\n",
    "        self.max_speed = maxSpeed\n",
    "        self.average_of_vehicle = average\n",
    "\n",
    "    def show(self):\n",
    "        return self.name_of_vehicle, self.max_speed, self.average_of_vehicle\n"
   ]
  },
  {
   "cell_type": "markdown",
   "id": "0be50809-ba05-4b9e-91f7-bde41f644fd3",
   "metadata": {},
   "source": [
    "Q2. Create a child class car from the vehicle class created in Que 1, which will inherit the vehicle class.\r\n",
    "Create a method named seating_capacity which takes capacity as an argument and returns the name of\r\n",
    "the vehicle and its seating capacity."
   ]
  },
  {
   "cell_type": "code",
   "execution_count": 17,
   "id": "1bd0bf7d-8cea-45b6-a30b-a746b9c1da7a",
   "metadata": {},
   "outputs": [],
   "source": [
    "class car(vehicle):\n",
    "    def seating_capacity(self, capacity):\n",
    "        self.capacity = capacity\n",
    "        return self.name_of_vehicle, self.capacity"
   ]
  },
  {
   "cell_type": "code",
   "execution_count": 19,
   "id": "be766189-96d6-46d0-831e-0eaf9de31f70",
   "metadata": {},
   "outputs": [],
   "source": [
    "c = car('BMW', 300, 30)"
   ]
  },
  {
   "cell_type": "code",
   "execution_count": 20,
   "id": "2a9dd4c6-ef61-427b-bd18-3cc340619d61",
   "metadata": {},
   "outputs": [
    {
     "data": {
      "text/plain": [
       "('BMW', 2)"
      ]
     },
     "execution_count": 20,
     "metadata": {},
     "output_type": "execute_result"
    }
   ],
   "source": [
    "c.seating_capacity(2)"
   ]
  },
  {
   "cell_type": "markdown",
   "id": "1fc92204-466a-4f16-a592-7eb77a7f77bf",
   "metadata": {},
   "source": [
    "Q3. What is multiple inheritance? Write a python code to demonstrate multiple inheritance."
   ]
  },
  {
   "cell_type": "markdown",
   "id": "f87b8054-59e6-489b-ba82-647c57d34005",
   "metadata": {},
   "source": [
    "ANS: Multiple inheritance is one of the types of inheritance where a class inherits the properties of more that one class. Means a child class have more than one parent."
   ]
  },
  {
   "cell_type": "code",
   "execution_count": 21,
   "id": "6a135675-7fb6-4165-9844-33fb370f34cb",
   "metadata": {},
   "outputs": [],
   "source": [
    "#CODE TO DEMONSTRATE MULTIPLE INHERITANCE\n",
    "class base1:\n",
    "    def func1(self):\n",
    "        return 'parent1'\n",
    "class base2:\n",
    "    def func2(self):\n",
    "        return 'parent2'\n",
    "\n",
    "class child(base1, base2):\n",
    "    pass"
   ]
  },
  {
   "cell_type": "code",
   "execution_count": 22,
   "id": "ac887afd-2f09-4f69-a921-dc4543f758a9",
   "metadata": {},
   "outputs": [
    {
     "data": {
      "text/plain": [
       "'parent1'"
      ]
     },
     "execution_count": 22,
     "metadata": {},
     "output_type": "execute_result"
    }
   ],
   "source": [
    "rohan = child()\n",
    "rohan.func1()"
   ]
  },
  {
   "cell_type": "code",
   "execution_count": 23,
   "id": "f351b1c1-d94f-4285-834d-1c369b462a6c",
   "metadata": {},
   "outputs": [
    {
     "data": {
      "text/plain": [
       "'parent2'"
      ]
     },
     "execution_count": 23,
     "metadata": {},
     "output_type": "execute_result"
    }
   ],
   "source": [
    "rohan.func2()"
   ]
  },
  {
   "cell_type": "markdown",
   "id": "4ec2f8a4-914b-4924-beea-a9fc98b683bb",
   "metadata": {},
   "source": [
    "Q4. What are getter and setter in python? Create a class and create a getter and a setter method in this\r\n",
    "class."
   ]
  },
  {
   "cell_type": "markdown",
   "id": "029b4af8-3a10-40d6-b160-ac449cc57d0f",
   "metadata": {},
   "source": [
    "Ans: In Python, getters and setters are methods used to access and modify the attributes of an object, respectively. They are commonly used for implementing data encapsulation and controlling access to class attributes.\n",
    "\n",
    "Getter: is used to retrieve the value of private attributes of class\n",
    "Setter: is used to modify the value of private attributes of class"
   ]
  },
  {
   "cell_type": "code",
   "execution_count": 29,
   "id": "6922bf46-4b9b-4843-9880-6f7434d390de",
   "metadata": {},
   "outputs": [],
   "source": [
    "#IMPLEMENTATION\n",
    "\n",
    "class test:\n",
    "    def __init__(self, a, b):\n",
    "        self.__a = a\n",
    "        self.__b = b\n",
    "    def add(self):\n",
    "        return self.__a+self.__b\n",
    "    def set_values(self, a, b):\n",
    "        self.__a = a\n",
    "        self.__b = b\n",
    "    def get_values(self):\n",
    "        return self.__a, self.__b"
   ]
  },
  {
   "cell_type": "code",
   "execution_count": 30,
   "id": "969c4419-44d7-42c2-9561-cd5cd8e31148",
   "metadata": {},
   "outputs": [],
   "source": [
    "t = test(5,7)"
   ]
  },
  {
   "cell_type": "code",
   "execution_count": 31,
   "id": "927f6929-5b19-4d49-9c6c-80c3148591df",
   "metadata": {},
   "outputs": [
    {
     "data": {
      "text/plain": [
       "12"
      ]
     },
     "execution_count": 31,
     "metadata": {},
     "output_type": "execute_result"
    }
   ],
   "source": [
    "t.add()"
   ]
  },
  {
   "cell_type": "code",
   "execution_count": 32,
   "id": "9444cd6d-e771-460b-887e-dfbb7b38b00d",
   "metadata": {},
   "outputs": [],
   "source": [
    "t.set_values(2,10)"
   ]
  },
  {
   "cell_type": "code",
   "execution_count": 33,
   "id": "0d034534-13ed-40e1-bbba-85e19d9b8db2",
   "metadata": {},
   "outputs": [
    {
     "data": {
      "text/plain": [
       "(2, 10)"
      ]
     },
     "execution_count": 33,
     "metadata": {},
     "output_type": "execute_result"
    }
   ],
   "source": [
    "t.get_values()"
   ]
  },
  {
   "cell_type": "markdown",
   "id": "eeaf72a7-b817-45cb-ad09-512f3a1c4798",
   "metadata": {},
   "source": [
    "Q5.What is method overriding in python? Write a python code to demonstrate method overriding."
   ]
  },
  {
   "cell_type": "markdown",
   "id": "50b16da6-eb06-4746-bb1e-a648f6331d21",
   "metadata": {},
   "source": [
    "Ans: Method overriding is the process of redifining the same method in the child class that also exists in the parent class but have a different behaviour for the child class. Let's understand with the help of code:"
   ]
  },
  {
   "cell_type": "code",
   "execution_count": 38,
   "id": "c5c8d1d7-b968-41a0-b015-778489242b81",
   "metadata": {},
   "outputs": [],
   "source": [
    "class base:\n",
    "    def func(self):\n",
    "        return 'this is base class'"
   ]
  },
  {
   "cell_type": "code",
   "execution_count": 39,
   "id": "93fa941e-6a12-4062-9a33-610ef14ab103",
   "metadata": {},
   "outputs": [],
   "source": [
    "class child(base):\n",
    "    def func(self):\n",
    "        return 'I am child'"
   ]
  },
  {
   "cell_type": "code",
   "execution_count": 40,
   "id": "db5165f5-7a2f-4187-a911-05c0bf09748d",
   "metadata": {},
   "outputs": [
    {
     "data": {
      "text/plain": [
       "'I am child'"
      ]
     },
     "execution_count": 40,
     "metadata": {},
     "output_type": "execute_result"
    }
   ],
   "source": [
    "obj = child() #--> object of child class\n",
    "obj.func() #--> calling func() for child object and child class is inherited form base class"
   ]
  },
  {
   "cell_type": "markdown",
   "id": "b6f0a10d-c318-4013-8edb-046f50725569",
   "metadata": {},
   "source": [
    "As we can see above func() of child class is invoked and not of base class."
   ]
  }
 ],
 "metadata": {
  "kernelspec": {
   "display_name": "Python 3 (ipykernel)",
   "language": "python",
   "name": "python3"
  },
  "language_info": {
   "codemirror_mode": {
    "name": "ipython",
    "version": 3
   },
   "file_extension": ".py",
   "mimetype": "text/x-python",
   "name": "python",
   "nbconvert_exporter": "python",
   "pygments_lexer": "ipython3",
   "version": "3.11.0"
  }
 },
 "nbformat": 4,
 "nbformat_minor": 5
}
