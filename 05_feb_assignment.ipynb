{
 "cells": [
  {
   "cell_type": "markdown",
   "id": "1decff64-c4d8-4cb5-a0ce-852f6973ec16",
   "metadata": {},
   "source": [
    "Q1. Explain Class and Object with respect to Object-Oriented Programming. Give a suitable example."
   ]
  },
  {
   "cell_type": "markdown",
   "id": "24dfa08a-4e70-44c4-a102-aeae55e76402",
   "metadata": {},
   "source": [
    "Ans: Class is a blueprint for an object. It is a used-defined data type which has it's own data members and functions, which can be accessed and used by creating an instance of the class. For Example: Consider the Class of Cars. There may be many cars with different names and brands but all of them will share some common properties like all of them will have 4 wheels, Speed Limit, Mileage range, etc. So here, the Car is the class, and wheels, speed limits, and mileage are their properties.\n",
    "\n",
    "An Object is an identifiable entity with some characteristics and behavior. An Object is an instance of a Class. for example creating an object of class car which has its own specific model name, average , speed and other properties."
   ]
  },
  {
   "cell_type": "markdown",
   "id": "7a9b09e7-6ec3-427b-aab5-3e8339babd6f",
   "metadata": {},
   "source": [
    "Q2. Name the four pillars of OOPs."
   ]
  },
  {
   "cell_type": "markdown",
   "id": "86e4cffa-4849-4c87-85f8-b7a8da2ffe0f",
   "metadata": {},
   "source": [
    "Ans: 1. Encapsulation\n",
    "     2. Inheritance\n",
    "     3. Abstraction\n",
    "     4. Polymorphism"
   ]
  },
  {
   "cell_type": "markdown",
   "id": "5d801822-939e-445d-a9bf-949f1644a6eb",
   "metadata": {},
   "source": [
    "Q3. Explain why the __init__() function is used. Give a suitable example."
   ]
  },
  {
   "cell_type": "markdown",
   "id": "47dd1902-f87f-4f46-a9fb-614cd4f17570",
   "metadata": {},
   "source": [
    "__init__() is a special method which is also known as the constructor that is it is automatically invoked whenever an object of the class is created. It is used to initialize the attributes of the object.\n",
    "For eg:"
   ]
  },
  {
   "cell_type": "code",
   "execution_count": 2,
   "id": "3bab1615-a2c5-4aba-b215-546b1e71c68d",
   "metadata": {},
   "outputs": [],
   "source": [
    "class test:\n",
    "    def __init__(self, id, name): #this function will be automatically invoked and will asign the id and name parameter to the object's id and name automaticallly\n",
    "        self.id = id\n",
    "        self.name = name\n",
    "\n",
    "t = test(121, 'yash')"
   ]
  },
  {
   "cell_type": "code",
   "execution_count": 3,
   "id": "2dea79ff-ffb9-435b-ace2-734029d9af65",
   "metadata": {},
   "outputs": [
    {
     "name": "stdout",
     "output_type": "stream",
     "text": [
      "121 yash\n"
     ]
    }
   ],
   "source": [
    "print(t.id, t.name)"
   ]
  },
  {
   "cell_type": "markdown",
   "id": "dd37c4fe-831f-44ee-97d3-5dfc219eab0e",
   "metadata": {},
   "source": [
    "Q4. Why self is used in OOPs?"
   ]
  },
  {
   "cell_type": "markdown",
   "id": "0a5658f5-81b0-4340-81bd-aadcde031e85",
   "metadata": {},
   "source": [
    "Ans: self is just a convention, it is not any keyword in python. It is the first parameter that is given to every method of class and it is used as a reference variable which indicates that this particular member is class attribute. (like: self.name --> will indicate that this name attribute is class member)"
   ]
  },
  {
   "cell_type": "markdown",
   "id": "05694689-1eaa-4067-ab7f-45b85dc3d410",
   "metadata": {},
   "source": [
    "Q5. What is inheritance? Give an example for each type of inheritance."
   ]
  },
  {
   "cell_type": "markdown",
   "id": "b0a6b918-8ea2-42d9-97a6-ba2b2160f442",
   "metadata": {},
   "source": [
    "Ans: Inheritance is the process of inheriting the properties of one or more that one classes in one or more than one class. It increases code reusability and provide many more features.\n",
    "Types of inheritance:\n",
    "1. Single level\n",
    "2. multiple\n",
    "3. multilevel\n",
    "4. hierarchical\n",
    "5. hybrid\n",
    "Let's see example of each type:"
   ]
  },
  {
   "cell_type": "code",
   "execution_count": 5,
   "id": "4614229b-d00a-478b-b2c4-703987dbf21b",
   "metadata": {},
   "outputs": [],
   "source": [
    "#Single Level:\n",
    "class singleBase:\n",
    "    def func(self):\n",
    "        return 'this is base'\n",
    "\n",
    "class singleChild(singleBase):\n",
    "    pass\n",
    "\n",
    "#multiple\n",
    "class multipleBase1:\n",
    "    def func1(self):\n",
    "        return 'this is first parent'\n",
    "class multipleBase2:\n",
    "    def func2(self):\n",
    "        return 'this is second parent'\n",
    "class mutipleChild(multipleBase1, multipleBase2):\n",
    "    pass\n",
    "\n",
    "\n",
    "#multilevel\n",
    "class multilevel1:\n",
    "    def func1(self):\n",
    "        return 'this is 1st level of multilevel'\n",
    "class multilevel2(multilevel1):\n",
    "    def func2(self):\n",
    "        return 'this is 2nd level of multilevel'\n",
    "class multilevel3(multilevel2):\n",
    "    def func3(self):\n",
    "        return 'this is 3rd level of multilevel'\n",
    "\n",
    "\n",
    "#hierarchical\n",
    "class hierarchicalParent:\n",
    "    def func(self):\n",
    "        return 'I have 3 children'\n",
    "class child1(hierarchicalParent):\n",
    "    pass\n",
    "class child2(hierarchicalParent):\n",
    "    pass\n",
    "class child3(hierarchicalParent):\n",
    "    pass\n",
    "\n",
    "\n",
    "#hybrid\n",
    "class grandfather:\n",
    "    def func(self):\n",
    "        pass\n",
    "\n",
    "class parent1(grandfather):\n",
    "    pass\n",
    "class parent2(grandfather):\n",
    "    pass\n",
    "\n",
    "class child1(parent1):\n",
    "    pass\n",
    "class childOfChild1(child1):\n",
    "    pass"
   ]
  },
  {
   "cell_type": "code",
   "execution_count": null,
   "id": "4035e32f-064d-4c6e-b653-7609a031698e",
   "metadata": {},
   "outputs": [],
   "source": []
  }
 ],
 "metadata": {
  "kernelspec": {
   "display_name": "Python 3 (ipykernel)",
   "language": "python",
   "name": "python3"
  },
  "language_info": {
   "codemirror_mode": {
    "name": "ipython",
    "version": 3
   },
   "file_extension": ".py",
   "mimetype": "text/x-python",
   "name": "python",
   "nbconvert_exporter": "python",
   "pygments_lexer": "ipython3",
   "version": "3.11.0"
  }
 },
 "nbformat": 4,
 "nbformat_minor": 5
}
