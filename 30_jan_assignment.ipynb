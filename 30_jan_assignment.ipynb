{
 "cells": [
  {
   "cell_type": "markdown",
   "id": "ecc8e0a7-8215-47cc-8f7b-e38c09fb4a1f",
   "metadata": {},
   "source": [
    "ANSWER 1"
   ]
  },
  {
   "cell_type": "code",
   "execution_count": 7,
   "id": "ca1059e3-7189-45c8-8260-0ddc37bb7fb0",
   "metadata": {},
   "outputs": [
    {
     "name": "stdin",
     "output_type": "stream",
     "text": [
      " 87\n"
     ]
    },
    {
     "name": "stdout",
     "output_type": "stream",
     "text": [
      "B\n"
     ]
    }
   ],
   "source": [
    "percentage = int(input())\n",
    "if percentage > 90:\n",
    "    print('A')\n",
    "elif percentage > 80 and percentage <= 90:\n",
    "    print('B')\n",
    "elif percentage >= 60 and percentage <= 80:\n",
    "    print('C')\n",
    "else:\n",
    "    print('D')"
   ]
  },
  {
   "cell_type": "markdown",
   "id": "99b2ab0a-218c-4150-82df-e03e0c9ce318",
   "metadata": {},
   "source": [
    "ANSWER 2"
   ]
  },
  {
   "cell_type": "code",
   "execution_count": 10,
   "id": "24372cfb-c812-4f3f-aa4c-850dcf198f59",
   "metadata": {},
   "outputs": [
    {
     "name": "stdin",
     "output_type": "stream",
     "text": [
      " 200000\n"
     ]
    },
    {
     "name": "stdout",
     "output_type": "stream",
     "text": [
      "30000.0\n"
     ]
    }
   ],
   "source": [
    "cost_price = int(input())\n",
    "if cost_price <= 50000:\n",
    "    tax = 0.05 * cost_price\n",
    "    print(tax)\n",
    "elif cost_price > 50000 and cost_price <= 100000:\n",
    "    tax = 0.1 * cost_price\n",
    "    print(tax)\n",
    "else:\n",
    "    tax = 0.15 * cost_price\n",
    "    print(tax)"
   ]
  },
  {
   "cell_type": "markdown",
   "id": "0f548cd9-452f-4217-84cb-ec7cb647be6e",
   "metadata": {},
   "source": [
    "ANSWER 3"
   ]
  },
  {
   "cell_type": "code",
   "execution_count": 13,
   "id": "33ab9a85-af19-4dc5-b4d3-cb403c4be9fa",
   "metadata": {},
   "outputs": [
    {
     "name": "stdin",
     "output_type": "stream",
     "text": [
      " Jaipur\n"
     ]
    },
    {
     "name": "stdout",
     "output_type": "stream",
     "text": [
      "Jal Mahal\n"
     ]
    }
   ],
   "source": [
    "city = input()\n",
    "if city == 'Delhi':\n",
    "    print('Red Fort')\n",
    "elif city == 'Agra':\n",
    "    print('Taj Mahal')\n",
    "elif city == 'Jaipur':\n",
    "    print('Jal Mahal')"
   ]
  },
  {
   "cell_type": "markdown",
   "id": "4beb8278-4a1d-4286-b901-3d640e766828",
   "metadata": {},
   "source": [
    "ANSWER 4"
   ]
  },
  {
   "cell_type": "code",
   "execution_count": 15,
   "id": "2da4ffb8-7fcf-4fe4-be02-3c2b0440ca0a",
   "metadata": {},
   "outputs": [
    {
     "name": "stdin",
     "output_type": "stream",
     "text": [
      " 111\n"
     ]
    },
    {
     "name": "stdout",
     "output_type": "stream",
     "text": [
      "2\n"
     ]
    }
   ],
   "source": [
    "count = 0\n",
    "num = int(input())\n",
    "\n",
    "while (num > 10):\n",
    "    num = num // 3\n",
    "    count += 1\n",
    "\n",
    "print(count-1) #for example when num = 13 and 13//3 == 4 means on dividing only once it reaches below 10 but our count still increases hence we need to subtract this one count from our total count"
   ]
  },
  {
   "cell_type": "markdown",
   "id": "4db4ed72-076e-4dbd-b8f7-2e02b917a442",
   "metadata": {},
   "source": [
    "ANSWER 5"
   ]
  },
  {
   "cell_type": "markdown",
   "id": "431a6ff3-f5ff-40a7-bc59-2822368cecbb",
   "metadata": {},
   "source": [
    "While loops are used when we only know that the loop must go on till the given condition is true. Hence we only the condition and nothing else. whereas for loops are used for iterating a particular number of times hence we know the starting and ending point. but in while loop we don't know the starting or ending point we only know the given condition."
   ]
  },
  {
   "cell_type": "markdown",
   "id": "5f58a5ef-c8e8-4e2a-82af-5ee431a2c5d0",
   "metadata": {},
   "source": [
    "ANSWER 6"
   ]
  },
  {
   "cell_type": "code",
   "execution_count": 24,
   "id": "5523d1b3-dbc6-4ff7-b6cb-15e64612feb0",
   "metadata": {},
   "outputs": [
    {
     "name": "stdout",
     "output_type": "stream",
     "text": [
      "PATTERN 1\n",
      "*\n",
      "**\n",
      "***\n",
      "****\n",
      "*****\n",
      "PATTERN 2\n",
      "    *\n",
      "   **\n",
      "  ***\n",
      " ****\n",
      "*****\n",
      "PATTERN 3\n",
      "    *\n",
      "   ***\n",
      "  *****\n",
      " *******\n",
      "*********\n"
     ]
    }
   ],
   "source": [
    "print('PATTERN 1')\n",
    "row_pat_1 = 0\n",
    "while (row_pat_1 < 5):\n",
    "    col_pat_1 = 0\n",
    "    while(col_pat_1 <= row_pat_1):\n",
    "        print('*', end='')\n",
    "        col_pat_1 += 1\n",
    "    print()\n",
    "    row_pat_1 += 1\n",
    "\n",
    "\n",
    "\n",
    "print(\"PATTERN 2\")\n",
    "rows = 5\n",
    "row_num = 1\n",
    "\n",
    "while row_num <= rows:\n",
    "    spaces = rows - row_num\n",
    "    while spaces > 0:\n",
    "        print(\" \", end=\"\")\n",
    "        spaces -= 1\n",
    "    stars = row_num\n",
    "    while stars > 0:\n",
    "        print(\"*\", end=\"\")\n",
    "        stars -= 1\n",
    "    print()\n",
    "    row_num += 1\n",
    "\n",
    "\n",
    "print('PATTERN 3')\n",
    "\n",
    "rows = 5\n",
    "row_num = 0\n",
    "\n",
    "while row_num < rows:\n",
    "    space = rows - row_num - 1\n",
    "    while space > 0:\n",
    "        print(\" \", end=\"\")\n",
    "        space -= 1\n",
    "    stars = 2 * row_num + 1\n",
    "    while stars > 0:\n",
    "        print(\"*\", end=\"\")\n",
    "        stars -= 1\n",
    "    print()\n",
    "    row_num += 1"
   ]
  },
  {
   "cell_type": "markdown",
   "id": "6d4c71b5-ea14-4d40-a5d5-779dcf63e68f",
   "metadata": {},
   "source": [
    "ANSWER 7 & 8 (SAME QUESTION)"
   ]
  },
  {
   "cell_type": "code",
   "execution_count": 26,
   "id": "8cf4306d-4c6f-4bd4-a254-7411141d9739",
   "metadata": {},
   "outputs": [
    {
     "name": "stdout",
     "output_type": "stream",
     "text": [
      "10 9 8 7 6 5 4 3 2 1 "
     ]
    }
   ],
   "source": [
    "num = 10\n",
    "while (num > 0):\n",
    "    print(num, end=' ')\n",
    "    num -= 1"
   ]
  },
  {
   "cell_type": "code",
   "execution_count": null,
   "id": "593947b0-2ca8-4b57-82b1-42e78c6df8ac",
   "metadata": {},
   "outputs": [],
   "source": []
  }
 ],
 "metadata": {
  "kernelspec": {
   "display_name": "Python 3 (ipykernel)",
   "language": "python",
   "name": "python3"
  },
  "language_info": {
   "codemirror_mode": {
    "name": "ipython",
    "version": 3
   },
   "file_extension": ".py",
   "mimetype": "text/x-python",
   "name": "python",
   "nbconvert_exporter": "python",
   "pygments_lexer": "ipython3",
   "version": "3.11.0"
  }
 },
 "nbformat": 4,
 "nbformat_minor": 5
}
